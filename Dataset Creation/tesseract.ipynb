{
 "cells": [
  {
   "cell_type": "code",
   "execution_count": null,
   "metadata": {},
   "outputs": [],
   "source": [
    "import mne\n",
    "\n",
    "# Load the EDF file using MNE\n",
    "raw = mne.io.read_raw_edf('your_file.edf', preload=True)\n",
    "\n",
    "# Print basic information\n",
    "print(raw.info)\n",
    "\n",
    "# Access the signal data\n",
    "data, times = raw[:]\n",
    "print(f\"Data shape: {data.shape}\")  # Channels x Time points\n",
    "\n",
    "# Example: Plot the first 10 seconds of the first signal\n",
    "raw.plot(duration=10, start=0)\n"
   ]
  }
 ],
 "metadata": {
  "kernelspec": {
   "display_name": "Python 3",
   "language": "python",
   "name": "python3"
  },
  "language_info": {
   "codemirror_mode": {
    "name": "ipython",
    "version": 3
   },
   "file_extension": ".py",
   "mimetype": "text/x-python",
   "name": "python",
   "nbconvert_exporter": "python",
   "pygments_lexer": "ipython3",
   "version": "3.12.6"
  }
 },
 "nbformat": 4,
 "nbformat_minor": 2
}
